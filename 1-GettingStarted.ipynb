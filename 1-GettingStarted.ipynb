{
 "cells": [
  {
   "cell_type": "markdown",
   "id": "e3661e08-629d-4e75-ad58-16993239dbd7",
   "metadata": {},
   "source": [
    "## Installations"
   ]
  },
  {
   "cell_type": "markdown",
   "id": "e6212b19-379d-430c-b100-42385f9e3059",
   "metadata": {},
   "source": [
    "This series is going to use **python** and **jupyter notebooks**. The easiest way to get started is to install **miniconda**. You can find the install instructions [**here**](https://docs.anaconda.com/miniconda/#latest-miniconda-installer-links).\n",
    "- For Windows, there is only one version, so this should be easy!\n",
    "- For Mac, you'll have to check what processor you have. Open the Apple menu on the top left corner of your desktop screen, click on “About This Mac”, and then look for the processor (should be intel or M1). Then download the corresponding `.pkg` file file from the link above.\n",
    "\n",
    "Unless you have coded before, go ahead an say yes or check the box when the installer asks if you would like to add miniconda to PATH. Once everything installs, open the app **Anaconda Prompt (miniconda3)**. Then type in `conda install notebook numpy pandas matplotlib scipy`. This will install all the packages you should need for this series."
   ]
  },
  {
   "cell_type": "markdown",
   "id": "5f532dd7-a2ef-4810-b4d9-60214bd99cb3",
   "metadata": {},
   "source": [
    "### What is a Package?\n",
    "\n",
    "A package is a collection of code that someone else wrote and thought you might find useful. For example, if would be really difficult to write a program that plots a line. However, we can just import code from the `matplotlib` package we installed to do if for us:"
   ]
  },
  {
   "cell_type": "code",
   "execution_count": null,
   "id": "ced8a35f-0167-4f7e-ab51-1a0e26239d45",
   "metadata": {},
   "outputs": [],
   "source": [
    "from matplotlib import pyplot as plt\n",
    "\n",
    "x = [-3,-2,-1,0,1,2,3,4,5]\n",
    "y = [x_i**2 for x_i in x]\n",
    "\n",
    "plt.plot(x,y)\n",
    "plt.show()"
   ]
  },
  {
   "cell_type": "markdown",
   "id": "5dce81f5",
   "metadata": {},
   "source": [
    "```python\n",
    "from matplotlib import pyplot as plt\n",
    "```\n",
    "The first line is how you \"load up\" a package into the current session once it's been installed on your computer. The `as plt` part just gives the package a \"nickname\" so that you don't have to write out `pyplot` every time. You can use whatevery abbreviation you want, but `plt` is the one you'll see in tutorials\n",
    "\n",
    "```python\n",
    "x = [-3,-2,-1,0,1,2,3,4,5]\n",
    "y = [x_i**2 for x_i in x]\n",
    "```\n",
    "ignore this for now\n",
    "\n",
    "```python\n",
    "plt.plot(x,y)\n",
    "plt.show()\n",
    "```\n",
    "You can use code from the Pyplot package by using this notation, where you put the package name (abbreviated if you used the `as` clause in the `import above), followed by a dot, followed by the name of the function you want to use.\n",
    "\n",
    "You should understand all of this by the end of the workshop, but for now, just marvel at the power of what you can do by making use of other people's code :)"
   ]
  },
  {
   "cell_type": "markdown",
   "id": "82d0c5d8-e893-4d89-8d1d-4d16ca70cd41",
   "metadata": {},
   "source": [
    "### How do I open Jupyter Notebooks?\n",
    "\n",
    "Jupyter itself is actually a package as well! We installed it with the command `conda install notebook`. Now to run it, all we have to do is type `jupyter notebook` in the terminal. This should take you to a web page like this one.\n",
    "\n",
    "One tip before getting started though - make a folder to keep all of your code. For example, I keep this stuff in `C:\\Users\\aidan\\BCMCodes`. Once you make the folder, you can navigate to it using the terminal by using the `cd` command. We will demonstrate how to do this, but basically you just look at the path you are already at, then type out the rest of the path after cd. In my case, when I open miniconda I am at `C:Users\\aidan` so I just have to type `cd BCMCodes`."
   ]
  },
  {
   "cell_type": "markdown",
   "id": "0e5e5545-8806-41a5-988f-1529ef8244cd",
   "metadata": {},
   "source": [
    "### Running Some Code\n",
    "\n",
    "You should have been sent a link to this file. If you move it into the folder we navigated to above, it will pop up in your jupyter menu when you run the command `jupyter notebook` in the terminal. If you don't have this file, it is available at [https://github.com/aidanboyne/BCMCodes](https://github.com/aidanboyne/BCMCodes). "
   ]
  },
  {
   "cell_type": "markdown",
   "id": "5328bcba",
   "metadata": {},
   "source": [
    "## Intro to python\n",
    "### 1. Variables"
   ]
  },
  {
   "cell_type": "markdown",
   "id": "30f42d3b",
   "metadata": {},
   "source": [
    "The heart of programming lies in things called \"variables\". The name is taken from algebra, where you were solving for variables like x. In programming, though, variables are different. Instead of being things you solve for, a variable is a box of data somewhere inside the computer. So when you type some code like this:"
   ]
  },
  {
   "cell_type": "code",
   "execution_count": null,
   "id": "4cf31a8a",
   "metadata": {},
   "outputs": [],
   "source": [
    "year = 2024"
   ]
  },
  {
   "cell_type": "markdown",
   "id": "08ff9cf5",
   "metadata": {},
   "source": [
    "The computer makes a box somewhere inside its memory, labels the box `year`, and then puts the number 2024 inside.\n",
    "\n",
    "![](media/var1.png)"
   ]
  },
  {
   "cell_type": "markdown",
   "id": "911a4b70",
   "metadata": {},
   "source": [
    "Okay, so you can put numbers into boxes. That's great, but can you get them out of the boxes? Of course! The easiest way to do this is to use the `print()` function, which reads the value inside the box and \"prints\" it onto the screen. Press the play button to run the cell below."
   ]
  },
  {
   "cell_type": "code",
   "execution_count": null,
   "id": "12060d68",
   "metadata": {},
   "outputs": [],
   "source": [
    "print(year)"
   ]
  },
  {
   "cell_type": "markdown",
   "id": "47cee884",
   "metadata": {},
   "source": [
    "If you change the value of the `year` variable, then the new value will be read when you `print()` it again"
   ]
  },
  {
   "cell_type": "code",
   "execution_count": null,
   "id": "c4f3ea22",
   "metadata": {},
   "outputs": [],
   "source": [
    "year = 2025\n",
    "print(year)"
   ]
  },
  {
   "cell_type": "markdown",
   "id": "997b399c",
   "metadata": {},
   "source": [
    "That's great and all, but what else can we do with variables? Well, we can make the computer do calculations (following PEMDAS) before storing the result inside of a variable"
   ]
  },
  {
   "cell_type": "code",
   "execution_count": null,
   "id": "8096d746",
   "metadata": {},
   "outputs": [],
   "source": [
    "score = 1 + 234 * 5 / 6 - 7 - 89\n",
    "print(score)"
   ]
  },
  {
   "cell_type": "markdown",
   "id": "ed75d9fb",
   "metadata": {},
   "source": [
    "When you're doing calculations, you can use parentheses `()` to change the order of operations. Don't use brackets `[]` or braces `{}` though, those have special meanings in programming."
   ]
  },
  {
   "cell_type": "code",
   "execution_count": null,
   "id": "16c86852",
   "metadata": {},
   "outputs": [],
   "source": [
    "score = (1 + 234) * 5 / (6 - 7) - 89\n",
    "print(score)"
   ]
  },
  {
   "cell_type": "markdown",
   "id": "d4a07b6e",
   "metadata": {},
   "source": [
    "Still doesn't seem much better than a calculator. Things get more interesting when we use variables to calculate the value for other variables"
   ]
  },
  {
   "cell_type": "code",
   "execution_count": null,
   "id": "f397ea84",
   "metadata": {},
   "outputs": [],
   "source": [
    "hr = 60\n",
    "sv = 100\n",
    "co = hr * sv / 1000\n",
    "print(co)"
   ]
  },
  {
   "cell_type": "markdown",
   "id": "3501672e",
   "metadata": {},
   "source": [
    "The computer will read the value inside of the variables on the right-hand side, do the calculation, and then store that in a new box for the variable on the left-hand side\n",
    "\n",
    "![](media/var2.png)"
   ]
  },
  {
   "cell_type": "markdown",
   "id": "21277328",
   "metadata": {},
   "source": [
    "Do you see why the following will not work?"
   ]
  },
  {
   "cell_type": "code",
   "execution_count": null,
   "id": "59ab9f00",
   "metadata": {},
   "outputs": [],
   "source": [
    "MAP = 100\n",
    "CO = 6\n",
    "MAP = CO * SVR\n",
    "print(SVR)"
   ]
  },
  {
   "cell_type": "markdown",
   "id": "c4c11dfe",
   "metadata": {},
   "source": [
    "The computer complains because when it gets to the third line, it doesn't know where to find the box labeled SVR inside its memory, because we never created any variables with that name. And the computer will only create new boxes for variables on the left-hand side of the equal-side.\n",
    "\n",
    "![](media/var3.png)"
   ]
  },
  {
   "cell_type": "markdown",
   "id": "04b8b211",
   "metadata": {},
   "source": [
    "Before we move on, one more thing. Variables will be stored from earlier cells in the same notebook, which means we can do this:"
   ]
  },
  {
   "cell_type": "code",
   "execution_count": null,
   "id": "61fa8092",
   "metadata": {},
   "outputs": [],
   "source": [
    "print(year + hr)"
   ]
  },
  {
   "cell_type": "markdown",
   "id": "efe3a00b",
   "metadata": {},
   "source": [
    "But they will be erased once you close the notebook. You can always run the cells again to re-calculate them again, though."
   ]
  },
  {
   "cell_type": "markdown",
   "id": "b7dd3cf3",
   "metadata": {},
   "source": [
    "### 2. Data types"
   ]
  },
  {
   "cell_type": "markdown",
   "id": "09ae98a9",
   "metadata": {},
   "source": [
    "As it turns out, we can store a lot more than just numbers inside of variables. In fact, there are a whole lot of data types. Let's explore a few of them. We'll be using the `type()` function to find out the type of data stored inside of different variables"
   ]
  },
  {
   "cell_type": "markdown",
   "id": "7a6a8c67",
   "metadata": {},
   "source": [
    "#### 2.1 Numerical\n",
    "First up, we actually have 2 different types of numbers. There are `int`s (integers) and `float`s (decimals. Don't ask where the name comes from, just accept it.)"
   ]
  },
  {
   "cell_type": "code",
   "execution_count": null,
   "id": "42997ee1",
   "metadata": {},
   "outputs": [],
   "source": [
    "age = 25\n",
    "temperature = 98.6\n",
    "print(type(age))\n",
    "print(type(temperature))"
   ]
  },
  {
   "cell_type": "markdown",
   "id": "52ec0d35",
   "metadata": {},
   "source": [
    "Also, notice how I called the `type()` function inside of the `print()` function there? That's totally legal, but if it confuses you, it's the same as storing the type in an intermediate variable and then printing that intermediate variable:"
   ]
  },
  {
   "cell_type": "code",
   "execution_count": null,
   "id": "d0c0e6e2",
   "metadata": {},
   "outputs": [],
   "source": [
    "age = 25\n",
    "type_of_age = type(age)\n",
    "print(type_of_age)"
   ]
  },
  {
   "cell_type": "markdown",
   "id": "2edf4e7b",
   "metadata": {},
   "source": [
    "#### 2.2 Text\n",
    "Python can also store text data in a type called `str`. `str` is short for string, because the text is stored as a string of characters, one after the other. Text must be written inside of either single- or double-quotes."
   ]
  },
  {
   "cell_type": "code",
   "execution_count": null,
   "id": "fc36f6c4",
   "metadata": {},
   "outputs": [],
   "source": [
    "name = \"John Doe\"\n",
    "diagnosis = 'Hypertension'\n",
    "print(name)\n",
    "print(diagnosis)\n",
    "print(type(name))\n",
    "print(type(diagnosis))"
   ]
  },
  {
   "cell_type": "markdown",
   "id": "2ba20b96",
   "metadata": {},
   "source": [
    "**IMPORTANT!** In order for the computer to recognize text in your code as string data, it *needs* the quotes. If you forget the quotes, the computer will think that the text is a variable name. This is a common mistake that you will probably run into if you're not careful."
   ]
  },
  {
   "cell_type": "code",
   "execution_count": null,
   "id": "0316426a",
   "metadata": {},
   "outputs": [],
   "source": [
    "print(\"year\")\n",
    "print(year)"
   ]
  },
  {
   "cell_type": "markdown",
   "id": "b6924a07",
   "metadata": {},
   "source": [
    "The `+` operator works on strings by gluing them together into one big, long string"
   ]
  },
  {
   "cell_type": "code",
   "execution_count": null,
   "id": "8687b660",
   "metadata": {},
   "outputs": [],
   "source": [
    "first_name = \"John\"\n",
    "last_name = \"Doe\"\n",
    "print(first_name + last_name)"
   ]
  },
  {
   "cell_type": "markdown",
   "id": "267149f7",
   "metadata": {},
   "source": [
    "Oops, forgot the space"
   ]
  },
  {
   "cell_type": "code",
   "execution_count": null,
   "id": "4a78acfc",
   "metadata": {},
   "outputs": [],
   "source": [
    "print(first_name + \" \" + last_name)"
   ]
  },
  {
   "cell_type": "markdown",
   "id": "78a8566f",
   "metadata": {},
   "source": [
    "The `+` operator does not work if one side is a string and the other side is a number"
   ]
  },
  {
   "cell_type": "code",
   "execution_count": null,
   "id": "4ad86c49",
   "metadata": {},
   "outputs": [],
   "source": [
    "print(\"The year is \" + year)"
   ]
  },
  {
   "cell_type": "markdown",
   "id": "d75082d0",
   "metadata": {},
   "source": [
    "Did you get a `TypeError`? That's what you'd expect, because you can only add things of the same type. If you need to convert an `int` into a `str`, you can use the `str()` function"
   ]
  },
  {
   "cell_type": "code",
   "execution_count": null,
   "id": "8c90a1aa",
   "metadata": {},
   "outputs": [],
   "source": [
    "print(\"The year is \" + str(year))"
   ]
  },
  {
   "cell_type": "markdown",
   "id": "854fc87a",
   "metadata": {},
   "source": [
    "But when you're printing values like this, it's often easier to use f-strings. Or, if you're using a `.ipynb` notebook and not a `.py` script, you can just put a variable all alone on a line and it'll automatically `print()` it."
   ]
  },
  {
   "cell_type": "code",
   "execution_count": null,
   "id": "2c54e195",
   "metadata": {},
   "outputs": [],
   "source": [
    "print(f\"The year is {year}\")"
   ]
  },
  {
   "cell_type": "code",
   "execution_count": null,
   "id": "d0e8f55f",
   "metadata": {},
   "outputs": [],
   "source": [
    "year"
   ]
  },
  {
   "cell_type": "markdown",
   "id": "fb6dafab",
   "metadata": {},
   "source": [
    "#### 2.3 True/False\n",
    "You also have True/False variables, called `bool` after George Boole, who did a lot of fancy math with True and False."
   ]
  },
  {
   "cell_type": "code",
   "execution_count": null,
   "id": "ab55f1eb",
   "metadata": {},
   "outputs": [],
   "source": [
    "has_hypertension = True\n",
    "has_diabetes = False\n",
    "print(has_diabetes)"
   ]
  },
  {
   "cell_type": "markdown",
   "id": "2109f7f7",
   "metadata": {},
   "source": [
    "Instead of `+ - * /`, the operators for boolean variables are `and`, `or`, `not`"
   ]
  },
  {
   "cell_type": "code",
   "execution_count": null,
   "id": "ff817a84",
   "metadata": {},
   "outputs": [],
   "source": [
    "has_metabolic = has_hypertension and has_diabetes\n",
    "is_sick = has_hypertension or has_diabetes\n",
    "print(has_metabolic)\n",
    "print(is_sick)"
   ]
  },
  {
   "cell_type": "markdown",
   "id": "4d55e0d2",
   "metadata": {},
   "source": [
    "The idea here is that in order to have metabolic syndrome, you would need both HTN and DM, but having either one or the other is enough to be generally sick. This is not quite medically true but you get the point"
   ]
  },
  {
   "cell_type": "markdown",
   "id": "c8f9d9c8",
   "metadata": {},
   "source": [
    "#### 2.5 Lists\n",
    "What if you had a whole bunch of data that you needed to store? Like, say, MRNs for all of your patients. You could just make a variable for every patient"
   ]
  },
  {
   "cell_type": "code",
   "execution_count": null,
   "id": "e55a2807",
   "metadata": {},
   "outputs": [],
   "source": [
    "mrn_1 = 1234\n",
    "mrn_2 = 2938\n",
    "mrn_3 = 3683\n",
    "mrn_4 = 2846\n",
    "mrn_5 = 1827"
   ]
  },
  {
   "cell_type": "markdown",
   "id": "857e4dfa",
   "metadata": {},
   "source": [
    "But what if you have thousands of patients? Are you really going to type out a separate variable name for every single one? Surely there has to be a better way? That's where lists come in. Lists let you store a bunch of values in one big variable.\n",
    "\n",
    "![](media/list1.png)"
   ]
  },
  {
   "cell_type": "markdown",
   "id": "64b1560b",
   "metadata": {},
   "source": [
    "To create a list, use square brackets, and type out the values you want to store, separated by commas"
   ]
  },
  {
   "cell_type": "code",
   "execution_count": null,
   "id": "dd11419b",
   "metadata": {},
   "outputs": [],
   "source": [
    "list_of_mrns = [1234, 2938, 3683, 2846, 1827]"
   ]
  },
  {
   "cell_type": "markdown",
   "id": "9212d284",
   "metadata": {},
   "source": [
    "You can include any type of data inside of lists, including strings, booleans, and even other variables. However, keep in mind that when you use variables to populate a list, it stores the *value* of the variable rather than storing the variable itself. So for example,"
   ]
  },
  {
   "cell_type": "code",
   "execution_count": null,
   "id": "ebfe13d3",
   "metadata": {},
   "outputs": [],
   "source": [
    "list_hr = [hr, 70, 63, 62, 65]\n",
    "print(list_hr)\n",
    "hr = 9999\n",
    "print(list_hr)"
   ]
  },
  {
   "cell_type": "markdown",
   "id": "6e76ed32",
   "metadata": {},
   "source": [
    "See how the list didn't change when we updated the `hr` variable? That's because the list only stores the number that was inside the `hr` box, not the box itself\n",
    "\n",
    "![](media/list2.png)"
   ]
  },
  {
   "cell_type": "markdown",
   "id": "5851b5ff",
   "metadata": {},
   "source": [
    "Okay, but now that we have all of the data in one big list, what do we do if we need to pull out a specific thing from that list? The answer is that lists are ordered, so you can use the following notation to refer to a specific element in the list:\n",
    "\n",
    "![](media/list3.png)\n",
    "\n",
    "Notice how the numbers start at 0. This is the standard for most programming languages, but MATLAB and R start the numbers at 1 because they're used by a lot of non-CS people."
   ]
  },
  {
   "cell_type": "code",
   "execution_count": null,
   "id": "3db5f482",
   "metadata": {},
   "outputs": [],
   "source": [
    "print(list_hr[1])\n",
    "print(list_hr[4])"
   ]
  },
  {
   "cell_type": "markdown",
   "id": "c2fe9528",
   "metadata": {},
   "source": [
    "You can also use this notation not just to read out of a list, but also to change the values within the list"
   ]
  },
  {
   "cell_type": "code",
   "execution_count": null,
   "id": "71ad4919",
   "metadata": {},
   "outputs": [],
   "source": [
    "print(list_hr)\n",
    "list_hr[2] = 33\n",
    "print(list_hr)"
   ]
  },
  {
   "cell_type": "markdown",
   "id": "1e523ae9",
   "metadata": {},
   "source": [
    "Remember the `print()` and `type()` functions from earlier? There's another function that you'll use a lot with lists, and it's called `len()`"
   ]
  },
  {
   "cell_type": "code",
   "execution_count": null,
   "id": "46c6d523",
   "metadata": {},
   "outputs": [],
   "source": [
    "print(len(list_hr))"
   ]
  },
  {
   "cell_type": "markdown",
   "id": "1972b6c2",
   "metadata": {},
   "source": [
    "As you can see, it prints the length of a list, or in other words, it tells you how many elements are in the list"
   ]
  },
  {
   "cell_type": "markdown",
   "id": "51ce7741",
   "metadata": {},
   "source": [
    "#### 3. Functions"
   ]
  },
  {
   "cell_type": "markdown",
   "id": "bdb86b0c",
   "metadata": {},
   "source": [
    "We've talked a lot about functions. What are they even? Well, to understand why functions exist, let's say we need to do the same thing over and over again. For example, let's say we want to print out personalized patient instructions, but we want to change the patient's name and diagnosis. For starters, we could just write the code once, and then copy-paste it."
   ]
  },
  {
   "cell_type": "code",
   "execution_count": null,
   "id": "5868c54c",
   "metadata": {},
   "outputs": [],
   "source": [
    "name = \"John Doe\"\n",
    "diagnosis = \"Chest pain\"\n",
    "print(\"Hello, \" + name)\n",
    "print(\"You were seen today for \" + diagnosis)\n",
    "print(\"Return to the ER or call your PCP if your symptoms worsen.\")\n",
    "print(\"Please make sure to pick up your medications from the pharmacy and attend all follow-up appointments.\")\n",
    "\n",
    "name = \"Jane Deere\"\n",
    "diagnosis = \"Abdominal pain\"\n",
    "print(\"Hello, \" + name)\n",
    "print(\"You were seen today for \" + diagnosis)\n",
    "print(\"Return to the ER or call your PCP if your symptoms worsen.\")\n",
    "print(\"Please make sure to pick up your medications from the pharmacy and attend all follow-up appointments.\")"
   ]
  },
  {
   "cell_type": "markdown",
   "id": "5039b44e",
   "metadata": {},
   "source": [
    "This could get annoying if we had to copy-paste many times, though. And what if we had to change our discharge instructions in the future? Then we'd have to copy-paste every change a bunch of times. Functions help us save blocks of code and make them reusable."
   ]
  },
  {
   "cell_type": "code",
   "execution_count": null,
   "id": "16f088c2",
   "metadata": {},
   "outputs": [],
   "source": [
    "def discharge_instr(name, diagnosis):\n",
    "    print(\"Hello, \" + name)\n",
    "    print(\"You were seen today for \" + diagnosis)\n",
    "    print(\"Return to the ER or call your PCP if your symptoms worsen.\")\n",
    "    print(\"Please make sure to pick up your medications from the pharmacy and attend all follow-up appointments.\")"
   ]
  },
  {
   "cell_type": "markdown",
   "id": "114456cf",
   "metadata": {},
   "source": [
    "- `def` is short for define, because you're defining a new function.\n",
    "- `discharge_instr` is the name of the function, which will be how you call it later to make the code inside run\n",
    "- you can define \"arguments\" for the function inside parentheses. Essentially, these are variables that can be changed each time the function is run\n",
    "- end the first line with a colon\n",
    "- indent all of the code for the function"
   ]
  },
  {
   "cell_type": "markdown",
   "id": "910b21ed",
   "metadata": {},
   "source": [
    "Notice how the code didn't actually print anything yet, though. That's because you just *defined* the function, you haven't actually *called* it yet. You can call functions like so:"
   ]
  },
  {
   "cell_type": "code",
   "execution_count": null,
   "id": "bba10832",
   "metadata": {},
   "outputs": [],
   "source": [
    "discharge_instr(\"Franz Ferdinand\", \"Chest pain\")"
   ]
  },
  {
   "cell_type": "markdown",
   "id": "25bd93d3",
   "metadata": {},
   "source": [
    "Notice how this has the same output as if we had written:"
   ]
  },
  {
   "cell_type": "code",
   "execution_count": null,
   "id": "9dfdc871",
   "metadata": {},
   "outputs": [],
   "source": [
    "name = \"Franz Ferdinand\"\n",
    "diagnosis = \"Chest pain\"\n",
    "print(\"Hello, \" + name)\n",
    "print(\"You were seen today for \" + diagnosis)\n",
    "print(\"Return to the ER or call your PCP if your symptoms worsen.\")\n",
    "print(\"Please make sure to pick up your medications from the pharmacy and attend all follow-up appointments.\")"
   ]
  },
  {
   "cell_type": "markdown",
   "id": "c817e0c2",
   "metadata": {},
   "source": [
    "So when you call a function, it assigns the argument variables the values you wrote inside the parentheses, and then runs the indented code from the function definition"
   ]
  },
  {
   "cell_type": "markdown",
   "id": "d725fc86",
   "metadata": {},
   "source": [
    "Functions can also return a value. Here's an example of a function that might do that."
   ]
  },
  {
   "cell_type": "code",
   "execution_count": null,
   "id": "84734eca",
   "metadata": {},
   "outputs": [],
   "source": [
    "def add_two_numbers(a, b):\n",
    "    print(f\"I'm gonna add {a} and {b} together\")\n",
    "    return a + b\n",
    "\n",
    "sum = add_two_numbers(3, 5)\n",
    "print(sum)"
   ]
  },
  {
   "cell_type": "markdown",
   "id": "fb50ac3b",
   "metadata": {},
   "source": [
    "The idea is that when you `return 8`, then 8 replaces the function call in that line and you keep calculating from there. So like\n",
    "```python\n",
    "sum = add_two_numbers(3, 5)\n",
    "sum = 8\n",
    "```"
   ]
  },
  {
   "cell_type": "markdown",
   "id": "bab42e9b",
   "metadata": {},
   "source": [
    "#### 4. Objects"
   ]
  },
  {
   "cell_type": "markdown",
   "id": "d58aed66",
   "metadata": {},
   "source": [
    "Next, we talk about objects. You'll run into objects all of the time in Python, because they let you store multiple values along with some relevant functions. We'll skip over how to make your own objects because it's kinda confusing, but you should at least know how to use them. However if you want to learn more about objects (or anything else in the workbook) you can copy and paste the code into ChatGPT and ask it to explain the code and who to use it - it usually does an excellent job.\n",
    "\n",
    "Here, we'll use a patient object as an example. "
   ]
  },
  {
   "cell_type": "code",
   "execution_count": null,
   "id": "57e7881c",
   "metadata": {},
   "outputs": [],
   "source": [
    "from random import randint, choice\n",
    "\n",
    "class Patient:\n",
    "  def __init__(self, name, age, sex=None, height=None, weight=None):\n",
    "    self.name = name\n",
    "    self.age = age\n",
    "    if not sex: self.sex = choice([\"male\", \"female\"])\n",
    "    else: self.sex=sex\n",
    "    if not height: self.height = randint(140, 190)\n",
    "    else: self.height=height\n",
    "    if not weight: self.weight = randint(50, 120)\n",
    "    else: self.weight=weight\n",
    "    self.MRN = randint(int(1e6), int(9.99e6))\n",
    "    self.complaint = None\n",
    "\n",
    "  def info(self):\n",
    "    print(f\"{self.name}, {self.age} year old {self.sex}\\nMRN: {self.MRN}\")\n",
    "    if self.complaint:\n",
    "      print(\"Curent Complaints:\")\n",
    "      for issue in self.complaint:\n",
    "           print(f\"- {issue}\")\n",
    "  def update(self, new_age=None, new_weight=None):\n",
    "    if new_age: self.age = new_age\n",
    "    if new_weight: self.weight = new_weight\n",
    "  def get_BMI(self):\n",
    "    return (round(self.weight/((self.height/100)**2),1))\n",
    "  def add_complaint(self, complaint:str):\n",
    "    if not self.complaint: self.complaint = [complaint]\n",
    "    else: self.complaint.append(complaint)"
   ]
  },
  {
   "cell_type": "markdown",
   "id": "fd1e94c1",
   "metadata": {},
   "source": [
    "Let's create a patient"
   ]
  },
  {
   "cell_type": "code",
   "execution_count": null,
   "id": "dfdbf5e0",
   "metadata": {},
   "outputs": [],
   "source": [
    "Lynn = Patient(\"Lynn Phedema\", age = 40, sex = \"female\")"
   ]
  },
  {
   "cell_type": "markdown",
   "id": "937ce045",
   "metadata": {},
   "source": [
    "Using the `.info()` function, we can print out some info about Lynn"
   ]
  },
  {
   "cell_type": "code",
   "execution_count": null,
   "id": "31c40fcc",
   "metadata": {},
   "outputs": [],
   "source": [
    "Lynn.info()"
   ]
  },
  {
   "cell_type": "markdown",
   "id": "d8434ef6",
   "metadata": {},
   "source": [
    "Usually, objects have a few functions that either let you change the object or do something with the object. Here's the functions available for our `Patient` class.\n",
    "\n",
    "![](Media/lynn.png)"
   ]
  },
  {
   "cell_type": "markdown",
   "id": "4062b907",
   "metadata": {},
   "source": [
    "Let's add some conditions with `add_complaint` and print out her BMI with `get_BMI`"
   ]
  },
  {
   "cell_type": "code",
   "execution_count": null,
   "id": "eed4b31b",
   "metadata": {},
   "outputs": [],
   "source": [
    "Lynn.add_complaint(\"Diabetes\")\n",
    "Lynn.add_complaint(\"Edema\")\n",
    "Lynn.get_BMI()"
   ]
  },
  {
   "cell_type": "markdown",
   "id": "8a5b0e89",
   "metadata": {},
   "source": [
    "Oops, her weight has changed, we can update it and check her new BMI with the `update` function"
   ]
  },
  {
   "cell_type": "code",
   "execution_count": null,
   "id": "9202b6d0",
   "metadata": {},
   "outputs": [],
   "source": [
    "Lynn.update(new_weight=60)\n",
    "Lynn.get_BMI()"
   ]
  },
  {
   "cell_type": "markdown",
   "id": "077d4da9",
   "metadata": {},
   "source": [
    "Here's a review of data types in Python:\n",
    "\n",
    "1. Numeric Types:\n",
    "   - **int**: Whole numbers (e.g., age, count of symptoms)\n",
    "   - **float**: Decimal numbers (e.g., body temperature, lab results)\n",
    "\n",
    "2. Text Type:\n",
    "   - **str**: Textual data (e.g., patient names, diagnoses)\n",
    "\n",
    "3. Sequence Types:\n",
    "   - **list**: Ordered collection (e.g., list of symptoms)\n",
    "   - tuple: Immutable ordered collection (e.g., gene sequences)\n",
    "\n",
    "4. Mapping Type:\n",
    "   - **dict**: Key-value pairs (e.g., patient information)\n",
    "\n",
    "5. Set Types:\n",
    "   - set: Unordered collection of unique elements (e.g., unique patient IDs)\n",
    "\n",
    "6. Boolean Type:\n",
    "   - **bool**: True/False values (e.g., presence or absence of a condition)"
   ]
  },
  {
   "cell_type": "code",
   "execution_count": null,
   "id": "85ab30f6-584c-4238-9bd6-c683137b23a8",
   "metadata": {},
   "outputs": [],
   "source": [
    "# Strings\n",
    "patient_name = \"John Doe\"\n",
    "diagnosis = 'Hypertension'\n",
    "\n",
    "print(f\"Patient: {patient_name}, Diagnosis: {diagnosis}\")\n",
    "\n",
    "# Integers\n",
    "age = 45\n",
    "heart_rate = 72\n",
    "\n",
    "print(f\"Age: {age}, Heart Rate: {heart_rate} bpm\")\n",
    "\n",
    "# Floats\n",
    "temperature = 98.6\n",
    "bmi = 24.5\n",
    "\n",
    "print(f\"Temperature: {temperature}°F, BMI: {bmi}\")\n",
    "\n",
    "# Lists\n",
    "vital_signs = [98.6, 120, 80, 16]\n",
    "medications = [\"Lisinopril\", \"Metformin\", \"Aspirin\"]\n",
    "\n",
    "print(f\"Vital Signs: {vital_signs}\")\n",
    "print(f\"Medications: {medications}\")\n",
    "\n",
    "# Dictionaries\n",
    "patient_info = {\n",
    "    \"name\": \"John Doe\",\n",
    "    \"age\": 45,\n",
    "    \"diagnosis\": \"Hypertension\",\n",
    "    \"medications\": [\"Lisinopril\", \"Metformin\", \"Aspirin\"]\n",
    "}\n",
    "\n",
    "print(f\"Patient Info: {patient_info}\")"
   ]
  },
  {
   "cell_type": "markdown",
   "id": "41a8abd1",
   "metadata": {},
   "source": [
    "And here's a review of some common functions"
   ]
  },
  {
   "cell_type": "code",
   "execution_count": null,
   "id": "77abd262",
   "metadata": {},
   "outputs": [],
   "source": [
    "# len() - get the length of a sequence\n",
    "print(f\"Number of medications: {len(medications)}\")\n",
    "\n",
    "# type() - get the type of an object\n",
    "print(f\"Type of temperature: {type(temperature)}\")\n",
    "\n",
    "# sum() - sum up numbers in a list\n",
    "total_cholesterol = sum([120, 40, 80])  # LDL + HDL + Triglycerides/5\n",
    "print(f\"Total Cholesterol: {total_cholesterol} mg/dL\")\n",
    "\n",
    "# max() and min() - find maximum and minimum values\n",
    "max_bp = max([120, 130, 125, 118])\n",
    "min_bp = min([80, 85, 82, 78])\n",
    "print(f\"Max Systolic BP: {max_bp}, Min Diastolic BP: {min_bp}\")"
   ]
  },
  {
   "cell_type": "markdown",
   "id": "c51f7eba",
   "metadata": {},
   "source": [
    "## Exercises"
   ]
  },
  {
   "cell_type": "markdown",
   "id": "d24a89f1",
   "metadata": {},
   "source": [
    "1. Create a list of systolic blood pressure readings for a patient over 5 days. Then, calculate and print the average systolic blood pressure."
   ]
  },
  {
   "cell_type": "code",
   "execution_count": null,
   "id": "9d8ec140",
   "metadata": {},
   "outputs": [],
   "source": [
    "# Your code here\n",
    "\n"
   ]
  },
  {
   "cell_type": "markdown",
   "id": "63484431",
   "metadata": {},
   "source": [
    "2. Create a dictionary for a new patient with keys: \"name\", \"age\", \"weight\", \"height\".\n",
    "    - Calculate the BMI (weight in kg / (height in m)^2) and add it to the dictionary.\n",
    "    - Print the entire dictionary."
   ]
  },
  {
   "cell_type": "code",
   "execution_count": null,
   "id": "7e342ada",
   "metadata": {},
   "outputs": [],
   "source": [
    "# Your code here\n",
    "\n"
   ]
  },
  {
   "cell_type": "markdown",
   "id": "8cffc256",
   "metadata": {},
   "source": [
    "## Dataframes with pandas\n",
    "\n",
    "DataFrames (pandas) are particularly useful and are the \"excel sheets\" of Python, allowing for:\n",
    "- Efficient storage of large, structured datasets\n",
    "- Easy handling of mixed data types\n",
    "- Powerful data manipulation and analysis capabilities\n",
    "- Convenient input/output operations with various file formats (CSV, Excel, SQL databases)"
   ]
  },
  {
   "cell_type": "code",
   "execution_count": null,
   "id": "2f649375",
   "metadata": {},
   "outputs": [],
   "source": [
    "import pandas as pd\n",
    "from IPython.display import display\n",
    "\n",
    "# Create a dataframe\n",
    "data = {\n",
    "    'Patient': ['Alice', 'Bob', 'Carol', 'Aidan', 'Rohan', 'Cameron'],\n",
    "    'Age': [32, 58, 27,23,24,23],\n",
    "    'BMI': [22.1, 28.3, 21.7,22.1,21.8,22.8],\n",
    "    'Problem': ['Hypertension', 'COPD', 'Asthma','Hematuria','Heat Exhaustion','Caffine Toxicity']\n",
    "}\n",
    "\n",
    "df = pd.DataFrame(data)\n",
    "print(\"Patient Data:\")\n",
    "display(df)"
   ]
  },
  {
   "cell_type": "markdown",
   "id": "d83de2a7",
   "metadata": {},
   "source": [
    "Data in DataFrames is easy to work with. For our dataframe named `df` we can access specific columns using their names. For example, `df['Age']` will print the age column. We can also perform operations on columns. A nice cheat-sheet for dataframe navigation is at the end of the notebook."
   ]
  },
  {
   "cell_type": "code",
   "execution_count": null,
   "id": "3b3f1ea3",
   "metadata": {},
   "outputs": [],
   "source": [
    "# Basic dataframe operations\n",
    "print(f\"Average Age: {(df['Age'].mean()):.2f}\")\n",
    "\n",
    "print(\"\\nPatients under 25:\")\n",
    "display(df[df['Age'] < 25])"
   ]
  },
  {
   "cell_type": "markdown",
   "id": "83f73414",
   "metadata": {},
   "source": [
    "We can add and remove columns easily. Note that missing values are ok."
   ]
  },
  {
   "cell_type": "code",
   "execution_count": null,
   "id": "af54b460",
   "metadata": {},
   "outputs": [],
   "source": [
    "df[\"Meds\"] = ['lisinopril', 'salmeterol', 'albuterol', 'naproxen','', 'redbull']\n",
    "df.drop(\"BMI\", axis=1, inplace=True)\n",
    "display(df)"
   ]
  },
  {
   "cell_type": "markdown",
   "id": "ec19151a",
   "metadata": {},
   "source": [
    "Usually, you will collect data in excel, redcap, etc. and need to import it to python for analysis.\n",
    "\n",
    "Once you get a handle on DataFrames, you can do everything you can do in excel and lots more - often much more easily. Also, by creating a copy of your data in the notebook, you never need to directly alter the data, avoiding mistakes and accidentley messing up the data you collected.\n",
    "\n",
    "Here we're going to work on a sample dataset called `insurance.csv `"
   ]
  },
  {
   "cell_type": "code",
   "execution_count": null,
   "id": "dece5801",
   "metadata": {},
   "outputs": [],
   "source": [
    "insurance_data = pd.read_csv(\"Data/insurance.csv\")\n",
    "# Show first 5 rows of the dataframe\n",
    "display(insurance_data.iloc[0:5])"
   ]
  },
  {
   "cell_type": "markdown",
   "id": "454f7f6b",
   "metadata": {},
   "source": [
    "We can get a brief description of our data (mean, std, min, max...) with the `describe` function"
   ]
  },
  {
   "cell_type": "code",
   "execution_count": null,
   "id": "1c34a984",
   "metadata": {},
   "outputs": [],
   "source": [
    "insurance_data.describe()"
   ]
  },
  {
   "cell_type": "markdown",
   "id": "b0421772",
   "metadata": {},
   "source": [
    "### Some dataframe practice"
   ]
  },
  {
   "cell_type": "markdown",
   "id": "ebdad7d8",
   "metadata": {},
   "source": [
    "3. Using the dataframe 'df' created earlier, add a new column 'MAP' and fill it with some reasonable blood pressure values.\n",
    "   - Then, print out only the 'Patient' and 'MAP' columns."
   ]
  },
  {
   "cell_type": "code",
   "execution_count": null,
   "id": "67cc658e",
   "metadata": {},
   "outputs": [],
   "source": [
    "# Your code here\n",
    "\n"
   ]
  },
  {
   "cell_type": "markdown",
   "id": "4d3502ab",
   "metadata": {},
   "source": [
    "4. Create a new dataframe with columns 'Date', 'Glucose', and 'Insulin' for diabetes patients.\n",
    "   - Write the data as a dictionary then create a dataframe from the dictionary.\n",
    "   - Add at least 3 rows of sample data.\n",
    "   - Calculate and print the average glucose level and the highest insulin level."
   ]
  },
  {
   "cell_type": "code",
   "execution_count": null,
   "id": "2a15f662",
   "metadata": {},
   "outputs": [],
   "source": [
    "# Your code here\n",
    "\n"
   ]
  },
  {
   "cell_type": "markdown",
   "id": "af419108",
   "metadata": {},
   "source": [
    "#### Thanks for joining!\n",
    "Keep an eye out for future workshops and join our mailing list for updates. Over the next few months, we will be covering:\n",
    "- Conditional logic and loops (essential for large scale data processing)\n",
    "- Basic statistical tests in python and when to use them (t-tests, Chi-squared...)\n",
    "- Plotting data: figures for posters and publications\n",
    "- How to efficiently use LLMs (e.g. ChatGPT, Claude, etc.) when coding\n",
    "- Regressions and covariate analysis\n",
    "- Statistics for Meta-analyis\n",
    "- Introduction to machine learning in medicine\n",
    "\n",
    "If you have any ideas for future workshops or need some help, feel free to contact us!\n",
    "- [Aidan](mailto:aidan.boyne@bcm.edu): aidan.boyne@bcm.edu\n",
    "- [Rohan](mailto:Rohan.Vemu@bcm.edu): rohan.vemu@bcm.edu\n",
    "- [Cameron](mailto:Cameron.Noorbakhsh@bcm.edu): cameron.noorbakhsh@bcm.edu"
   ]
  },
  {
   "cell_type": "markdown",
   "id": "de2bdac0",
   "metadata": {},
   "source": [
    "### DataFrame Navigation"
   ]
  },
  {
   "cell_type": "code",
   "execution_count": null,
   "id": "43755d61",
   "metadata": {},
   "outputs": [],
   "source": [
    "# Accessing Columns\n",
    "\n",
    "print(\"1. Accessing Columns\")\n",
    "\n",
    "# Single column access\n",
    "print(\"\\na) Single column using []:\")\n",
    "print(df['name'])\n",
    "\n",
    "print(\"\\nb) Single column using dot notation:\")\n",
    "print(df.age)\n",
    "\n",
    "# Multiple columns access\n",
    "print(\"\\nc) Multiple columns:\")\n",
    "print(df[['name', 'age', 'blood_type']])\n",
    "\n",
    "# All columns\n",
    "print(\"\\nd) All columns (just the column names):\")\n",
    "print(df.columns)\n",
    "\n",
    "# Accessing Rows\n",
    "\n",
    "print(\"\\n2. Accessing Rows\")\n",
    "\n",
    "# Single row by integer index\n",
    "print(\"\\na) Single row by integer index:\")\n",
    "print(df.iloc[2])\n",
    "\n",
    "# Multiple rows by integer index\n",
    "print(\"\\nb) Multiple rows by integer index:\")\n",
    "print(df.iloc[1:4])\n",
    "\n",
    "# Rows by label (if you set an index)\n",
    "df.set_index('patient_id', inplace=True)\n",
    "print(\"\\nc) Single row by label:\")\n",
    "print(df.loc[1003])\n",
    "\n",
    "# Multiple rows by label\n",
    "print(\"\\nd) Multiple rows by label:\")\n",
    "print(df.loc[[1001, 1004, 1005]])\n",
    "\n",
    "# Conditional selection\n",
    "print(\"\\ne) Rows based on a condition:\")\n",
    "print(df[df['age'] > 40])\n",
    "\n",
    "# Accessing Specific Cells\n",
    "\n",
    "print(\"\\n3. Accessing Specific Cells\")\n",
    "\n",
    "# By integer index (row, column)\n",
    "print(\"\\na) Cell by integer index:\")\n",
    "print(df.iloc[2, 3])  # Row 3, Column 4 (0-based index)\n",
    "\n",
    "# By label\n",
    "print(\"\\nb) Cell by label:\")\n",
    "print(df.loc[1002, 'temperature'])\n",
    "\n",
    "# Using column name and row index\n",
    "print(\"\\nc) Cell by column name and integer index:\")\n",
    "print(df['blood_type'].iloc[1])\n",
    "\n",
    "# Accessing a Range of Cells\n",
    "\n",
    "print(\"\\n4. Accessing a Range of Cells\")\n",
    "\n",
    "# Range by integer index\n",
    "print(\"\\na) Range by integer index:\")\n",
    "print(df.iloc[1:3, 2:4])\n",
    "\n",
    "# Range by label\n",
    "print(\"\\nb) Range by label:\")\n",
    "print(df.loc[1002:1004, 'age':'temperature'])\n",
    "\n",
    "# Mixed integer and label-based\n",
    "print(\"\\nc) Mixed integer and label-based:\")\n",
    "print(df.loc[1002:1004, ['name', 'blood_type']])"
   ]
  }
 ],
 "metadata": {
  "kernelspec": {
   "display_name": "Python 3 (ipykernel)",
   "language": "python",
   "name": "python3"
  },
  "language_info": {
   "codemirror_mode": {
    "name": "ipython",
    "version": 3
   },
   "file_extension": ".py",
   "mimetype": "text/x-python",
   "name": "python",
   "nbconvert_exporter": "python",
   "pygments_lexer": "ipython3",
   "version": "3.12.2"
  }
 },
 "nbformat": 4,
 "nbformat_minor": 5
}
